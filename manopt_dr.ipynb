{
 "cells": [
  {
   "cell_type": "markdown",
   "metadata": {},
   "source": [
    "Discussion:\n",
    "- in the paper \"Linear dimensionality reduction: survey, insights, and generalizations\" by Cunningham and Ghahramani, 2015, JMLR [CG15], the authors point out that considering some linear dimensionality reduction algorithms e.g. sparse PCA, maximal autocorrelation factors (MAF), as eigenvalue / generalized-eigenvalue problems is impossible or inaccurate, and instead suggest that we should consider all such problems as optimization problems over matrix manifolds. In most cases, these are optimization problems over orthogonal matrices that minimize simple objectives:\n",
    "\n",
    "**PCA**\n",
    "\n",
    "Find the orthogonal linear projection $f: X \\mapsto M^T X$ that minimizes squared reconstruction error, i.e. $$ \\text{argmin}_{M \\in \\mathcal{O}^{d \\times r}} \\|X - M M^T X \\|^2_F$$\n",
    "\n",
    "**MAF**\n",
    "\n",
    "Find the linear projection $M^T X$ that maximizes the correlation between time-adjacent points $$ \\text{argmin}_{M \\in \\mathcal{O}^{d \\times r}} \\frac{\\text{tr}(M^T \\Sigma_{\\tau} M)}{\\text{tr}(M^T \\Sigma M)}$$\n",
    "\n",
    "where\n",
    "- $\\Sigma$ is the empirical covariance $E(x_t x_t^T) = \\frac{1}{n}X X^T$\n",
    "- $\\Sigma_\\tau$ is the symmetrized empirical cross-covariance at time-lag $\\tau$, $ \\frac{1}{2} (E(x_{t+\\tau} x_t^T) + E(x_t x_{t+\\tau}^T))$\n",
    "\n",
    "*Comments:*\n",
    "- Interpretation: maximizes cross-covariance of the transformation (numerator) while avoiding overcounting data that has high power (denominator)\n",
    "- Cunningham and Ghahramani note that we can make several variations easily:\n",
    "    - To maximize the cross-covariance rather than correlation, maximize $\\text{tr}(M^T \\Sigma_{\\tau} M)$ (the eigenvector solution is optimal for this variant)\n",
    "    - To maximize (or minimize) the squared distance between time-adjacent points, ($E(\\|y_{t+tau}-y_t\\|^2)$), the objective becomes $\\text{tr}(M^T (\\Sigma - \\Sigma_{\\tau}) M)$ (interpretation: discrete-time analog of SFA)\n",
    "        - See also: Turner and Sahani 2007: \n",
    "    - If you specify a particular form of temporal structure, then you can seek linear projections containing that structure. Example: to find a linear subspace where linear dynamics is preserved, minimize $\\| \\dot{X} - MDM^TX\\|_F^2$ for some dynamics matrix $D \\in \\mathbb{R}^{r\\times r}$, where we have access to first-derivative data $\\dot{X}$\n",
    "        - *This is of particular interest in the context of MSM-construction*, since we have a clear idea of the type of dynamics we would like our projections to preserve.\n",
    "        - We could directly optimize the linear projection to capture Markovian jump dynamics in the projected space\n",
    "        - See also Churchland et al., 2012: \"Neural population dynamics during reaching\" (Nature), describes this method for finding projections of the population state that best capture \"rotational\" information"
   ]
  },
  {
   "cell_type": "code",
   "execution_count": 145,
   "metadata": {
    "collapsed": true
   },
   "outputs": [],
   "source": [
    "import autograd\n",
    "from autograd import grad\n",
    "from autograd import numpy as np\n",
    "from autograd.numpy import random as npr\n",
    "from autograd.numpy import linalg as la"
   ]
  },
  {
   "cell_type": "code",
   "execution_count": 5,
   "metadata": {
    "collapsed": false
   },
   "outputs": [],
   "source": [
    "from sklearn.decomposition import PCA"
   ]
  },
  {
   "cell_type": "code",
   "execution_count": 2,
   "metadata": {
    "collapsed": true
   },
   "outputs": [],
   "source": [
    "def proj_stiefel(Z,M):\n",
    "    ''' M is a matrix on the stiefel manifold,\n",
    "    Z is what we want to project'''\n",
    "    skew_MTZ = 0.5 * (np.dot(M.T,Z) - np.dot(Z.T,M))\n",
    "    MMT = np.dot(M,M.T)\n",
    "    I = np.eye(len(MMT))\n",
    "    return np.dot(M,skew_MTZ) + np.dot(I - MMT,Z)"
   ]
  },
  {
   "cell_type": "code",
   "execution_count": null,
   "metadata": {
    "collapsed": true
   },
   "outputs": [],
   "source": [
    "def proj_grad_descent_stiefel(d,r,obj_func,\n",
    "                              convergence_threshold=0.1,max_iter=100):\n",
    "    obj_grad = grad(obj_func)\n",
    "    \n",
    "    # initialize M in the set of orthonormal matrices of desired dimension, M ∈ O^{d×r}\n",
    "    \n",
    "    M = PCA().fit_transform(npr.randn(d,r)) # orthogonalize\n",
    "    M /= M.sum(1) # normalize\n",
    "    \n",
    "    \n",
    "    \n",
    "        \n",
    "    # while obj_func(M) has not converged:\n",
    "    converged = False\n",
    "    timed_out=False\n",
    "    n_iter = 0\n",
    "    while (not converged) and (not timed_out):\n",
    "        old_M = M\n",
    "        \n",
    "        \n",
    "        # calculate free gradient of the objective\n",
    "        free_grad = obj_grad(M)\n",
    "        \n",
    "        # calculate search direction (eq. 34)\n",
    "        proj_M = proj_stiefel(M,free_grad)\n",
    "        retr_M = retr_stiefel_closed_form(\n",
    "        \n",
    "        # while the objective_func(retraction(projection(step))) is not < f(M) - \\eps\n",
    "            \n",
    "            # adjust step size using linesearch / retraction (eq. 35)\n",
    "        \n",
    "        # update M\n",
    "        \n",
    "        \n",
    "        n_iter += 1\n",
    "        if n_iter >= max_iter:\n",
    "        if np.mean((new_M - old_M)**2) < thresh:\n",
    "            converged = True\n",
    "        \n",
    "    \n",
    "    # return M"
   ]
  },
  {
   "cell_type": "markdown",
   "metadata": {},
   "source": [
    "Notes from \"optimization on manifolds\" (http://press.princeton.edu/chapters/absil/)\n",
    "\n",
    "**Chapter 1: Intro**\n",
    "\n",
    "Two prototypical structures for problems to be considered:\n",
    "- Search space is an *embedded sub-manifold* of the original vector space (e.g. by imposing a norm equality constraint, inducing a spherical search space)\n",
    "- Search space is a *quotient manifold* of the original vector space\n",
    "\n",
    "Goal: efficiently translate iterative optimization procedures from their original context (Euclidean vector space) to nonlinear manifolds.\n",
    "\n",
    "Key concepts from diff-geom --> numerical relaxation:\n",
    "- Motion along geodesics --> *retraction*\n",
    "- Parallel transport --> *vector transport*"
   ]
  },
  {
   "cell_type": "markdown",
   "metadata": {},
   "source": [
    "**Chapter 2: Motivations and Applications**\n",
    "\n",
    "We'll look at a case study, the eigenvalue problem. This is important in many areas, and since eigenvectors are scale-invariant they nicely illustrate the approach in this book\n",
    "- Review:\n",
    "    - Let $\\mathbb{F}$ be the field of real or complex numbers\n",
    "    - Let $A$ be an $n \\times n$ matrix with $A_{ij} \\in \\mathbb{F}$\n",
    "    - Any nonzero vector $v \\in \\mathbb{C}^n$ that satisfies $$A v = \\lambda v$$ for some $\\lambda \\in \\mathbb{C}$ is an *eigenvector* of $A$, and $\\lambda$ is its associated *eigenvalue* (with $(\\lambda,v)$ called an *eigenpair*)\n",
    "    - The set of eigenvalues of $A$ is the *spectrum* of $A$\n",
    "    - The eigenvalues of $A$ are the zeros of the *characteristic polynomial* of $A$\n",
    "    $$\\mathcal{P}_A (z) \\equiv \\det(A - zI)$$\n",
    "    - Their *algebraic multiplicity* is their multiplicity as zeros of $\\mathcal{P}_A$.\n",
    "    - If $T$ is an invertible matrix and $(\\lambda,v)$ is an eigenpair of $A$, then\n",
    "        - $(\\lambda , Tv)$ is an eigenpair of $TAT^{-1}$,\n",
    "        - the transformation $A \\mapsto TAT^{-1}$ is a *similarity transformation* of $A$\n",
    "    - A *linear subspace* $\\mathcal{S}$ of $\\mathbb{F}^n$ is a subset of $\\mathbb{F}^n$ closed under linear combinations:\n",
    "    $$ (ax + by) \\in \\mathcal{S} \\; \\forall x,y \\in \\mathcal{S}, \\forall a,b \\in \\mathbb{F}$$\n",
    "    - *Span.* A set $\\{y_1,\\dots,y_p\\}$ of elements of $\\mathcal{S}$ such that every element of $\\mathcal{S}$ can be written as a linear combination of $y_1,\\dots,y_p$ is called a *spanning set* of $\\mathcal{S}$\n",
    "        - $\\mathcal{S}$ is *the column space* or *the span* of the $n \\times p$ matrix $Y = [y_1,\\dots,y_p]$\n",
    "        - $Y$ *spans* $\\mathcal{S}$\n",
    "        - $\\mathcal{S} = \\text{span}(Y) = \\{ Y x : x \\in \\mathbb{F}^p \\} = Y \\mathbb{F}^p$\n",
    "    - The set of $p$-dimensional subspaces of $\\mathbb{F}^n$ is a *Grassman manifold* denoted $\\text{Grass}(p,n)$\n",
    "    - The kernel $\\text{ker}(B)$ of a matrix $B$ is the subspace formed by the vectors $x$ such that $Bx = 0$. \n",
    "    \n",
    "    ... incomplete notes ..."
   ]
  },
  {
   "cell_type": "markdown",
   "metadata": {},
   "source": [
    "- The eigenvalue problem as an optimization problem\n",
    "    - "
   ]
  },
  {
   "cell_type": "code",
   "execution_count": 23,
   "metadata": {
    "collapsed": false
   },
   "outputs": [
    {
     "data": {
      "text/plain": [
       "(10, 2)"
      ]
     },
     "execution_count": 23,
     "metadata": {},
     "output_type": "execute_result"
    }
   ],
   "source": [
    "X = npr.randn(1000,10)\n",
    "from sklearn.decomposition import PCA\n",
    "pca = PCA(2)\n",
    "pca.fit(X)\n",
    "M = pca.components_.T\n",
    "M.shape"
   ]
  },
  {
   "cell_type": "code",
   "execution_count": 15,
   "metadata": {
    "collapsed": true
   },
   "outputs": [],
   "source": [
    "def cov(X):\n",
    "    ''' compute covariance matrix of X '''\n",
    "    return np.dot(X,X.T) / len(X)\n",
    "\n",
    "def t_cov(X,tau=1):\n",
    "    ''' compute time-lagged covariance matrix of X '''\n",
    "    E1 = np.dot(X[tau:],X[:-tau].T) / len(X)\n",
    "    E2 = np.dot(X[:-tau],X[tau:].T) / len(X)\n",
    "    return 0.5*(E1 + E2)"
   ]
  },
  {
   "cell_type": "code",
   "execution_count": 16,
   "metadata": {
    "collapsed": true
   },
   "outputs": [],
   "source": [
    "def MAF_obj(M,cov_X,t_cov_X):\n",
    "    ''' minimize this'''\n",
    "    return np.trace(M.T.dot(t_cov_X.dot(M)))"
   ]
  },
  {
   "cell_type": "code",
   "execution_count": 24,
   "metadata": {
    "collapsed": true
   },
   "outputs": [],
   "source": [
    "def PCA_obj(M,X):\n",
    "    return np.sum((X.T - M.dot(M.T.dot(X.T)))**2)"
   ]
  },
  {
   "cell_type": "code",
   "execution_count": 28,
   "metadata": {
    "collapsed": false
   },
   "outputs": [
    {
     "data": {
      "text/plain": [
       "7901.0659563781683"
      ]
     },
     "execution_count": 28,
     "metadata": {},
     "output_type": "execute_result"
    }
   ],
   "source": [
    "opt = PCA_obj(M,X)\n",
    "opt"
   ]
  },
  {
   "cell_type": "code",
   "execution_count": 43,
   "metadata": {
    "collapsed": false
   },
   "outputs": [
    {
     "data": {
      "text/plain": [
       "(array([[-0.06636459,  0.15036049],\n",
       "        [ 0.27727964,  0.2738639 ],\n",
       "        [-0.30247766, -0.15038684],\n",
       "        [-0.05136056,  0.36339234],\n",
       "        [ 0.29914065, -0.55265155],\n",
       "        [ 0.12406988, -0.0604768 ],\n",
       "        [ 0.1172024 ,  0.08542416],\n",
       "        [-0.08513059, -0.65586791],\n",
       "        [ 0.36465999, -0.01944447],\n",
       "        [-0.7521583 , -0.02829893]]),\n",
       " (10, 2),\n",
       " array([ 1.,  1.]),\n",
       " array([[-0.06636459,  0.15036049],\n",
       "        [ 0.27727964,  0.2738639 ],\n",
       "        [-0.30247766, -0.15038684],\n",
       "        [-0.05136056,  0.36339234],\n",
       "        [ 0.29914065, -0.55265155],\n",
       "        [ 0.12406988, -0.0604768 ],\n",
       "        [ 0.1172024 ,  0.08542416],\n",
       "        [-0.08513059, -0.65586791],\n",
       "        [ 0.36465999, -0.01944447],\n",
       "        [-0.7521583 , -0.02829893]]))"
      ]
     },
     "execution_count": 43,
     "metadata": {},
     "output_type": "execute_result"
    }
   ],
   "source": [
    "M,M.shape,(M**2).sum(0),M / (M**2).sum(0)"
   ]
  },
  {
   "cell_type": "code",
   "execution_count": 72,
   "metadata": {
    "collapsed": false
   },
   "outputs": [
    {
     "name": "stdout",
     "output_type": "stream",
     "text": [
      "('omg nooo', 7901.0654428110711)\n",
      "('omg nooo', 7901.0625223425814)\n",
      "('omg nooo', 7901.0615678569666)\n",
      "('omg nooo', 7901.0654086907498)\n",
      "('omg nooo', 7901.0624129863827)\n",
      "('omg nooo', 7901.0648717670429)\n",
      "('omg nooo', 7901.0657691569431)\n",
      "('omg nooo', 7901.0646361123781)\n",
      "('omg nooo', 7901.0632247688573)\n",
      "('omg nooo', 7901.064269383347)\n",
      "('omg nooo', 7901.0633142935258)\n",
      "('omg nooo', 7901.0606578805236)\n",
      "('omg nooo', 7901.0656958986874)\n",
      "('omg nooo', 7901.0651823817861)\n",
      "('omg nooo', 7901.063804997988)\n",
      "('omg nooo', 7901.0654964295518)\n",
      "('omg nooo', 7901.061599159023)\n",
      "('omg nooo', 7901.0636243430436)\n",
      "('omg nooo', 7901.0640195981468)\n",
      "('omg nooo', 7901.0656457135883)\n",
      "('omg nooo', 7901.0635915276289)\n"
     ]
    }
   ],
   "source": [
    "winners = []\n",
    "for i in range(100):\n",
    "    M_ = M+npr.randn(*M.shape)*0.001\n",
    "    for i in range(M_.shape[1]):\n",
    "        M_[:,i] = M_[:,i] / np.sqrt(sum(M_[:,i]**2))\n",
    "    M_val = PCA_obj(M_,X)\n",
    "    if M_val < opt:\n",
    "        print('omg nooo',M_val)\n",
    "        winners.append((M_,M_val))"
   ]
  },
  {
   "cell_type": "code",
   "execution_count": null,
   "metadata": {
    "collapsed": true
   },
   "outputs": [],
   "source": []
  },
  {
   "cell_type": "code",
   "execution_count": 76,
   "metadata": {
    "collapsed": false
   },
   "outputs": [
    {
     "data": {
      "text/plain": [
       "(0.00071477004472439432, 2.7755575615628914e-16)"
      ]
     },
     "execution_count": 76,
     "metadata": {},
     "output_type": "execute_result"
    }
   ],
   "source": [
    "M_ = winners[0][0]\n",
    "(M_**2).sum(0)\n",
    "M_[:,0].dot(M_[:,1]),M[:,0].dot(M[:,1])"
   ]
  },
  {
   "cell_type": "code",
   "execution_count": 56,
   "metadata": {
    "collapsed": false
   },
   "outputs": [
    {
     "data": {
      "text/plain": [
       "array([-0.06604021,  0.15108481])"
      ]
     },
     "execution_count": 56,
     "metadata": {},
     "output_type": "execute_result"
    }
   ],
   "source": [
    "M_[0]"
   ]
  },
  {
   "cell_type": "code",
   "execution_count": 71,
   "metadata": {
    "collapsed": false
   },
   "outputs": [
    {
     "data": {
      "text/plain": [
       "(1.001101986953032, 0.99889922608546011)"
      ]
     },
     "execution_count": 71,
     "metadata": {},
     "output_type": "execute_result"
    }
   ],
   "source": [
    "(M_[:,0]**2).sum(),((M_[:,0] / (M_[:,0]**2).sum())**2).sum()"
   ]
  },
  {
   "cell_type": "code",
   "execution_count": 82,
   "metadata": {
    "collapsed": false
   },
   "outputs": [
    {
     "data": {
      "text/plain": [
       "0.0010108374912272426"
      ]
     },
     "execution_count": 82,
     "metadata": {},
     "output_type": "execute_result"
    }
   ],
   "source": [
    "np.linalg.norm(M_.T.dot(M_) - np.eye(len(M_.T)))"
   ]
  },
  {
   "cell_type": "code",
   "execution_count": 83,
   "metadata": {
    "collapsed": false
   },
   "outputs": [
    {
     "data": {
      "text/plain": [
       "False"
      ]
     },
     "execution_count": 83,
     "metadata": {},
     "output_type": "execute_result"
    }
   ],
   "source": [
    "np.allclose(M_.T.dot(M_),np.eye(len(M_.T)))"
   ]
  },
  {
   "cell_type": "markdown",
   "metadata": {},
   "source": [
    "(notes from [CG15] Appendix A)\n",
    "\n",
    "### Optimization over the Stiefel manifold\n",
    "$\\newcommand{\\odr}{\\mathcal{O}^{d\\times r}}$\n",
    "$\\newcommand{\\rdr}{\\mathbb{R}^{d \\times r}}$\n",
    "\n",
    "*Overview:* We want to take a free gradient in $\\rdr$, project it onto the tangent space $T_M \\odr$, then retract from the tangent space to the manifold $\\odr$\n",
    "<img src=\"manopt.jpg\" width=\"250\">\n",
    "\n",
    "**Tangent space:** linear approximation to the manifold at a particular point.\n",
    "- Define a *curve* $\\gamma(\\cdot)$ on the manifold $ \\odr$ as a smooth map $\\gamma(\\cdot): \\mathbb{R} \\to \\odr$\n",
    "- The tangent space $T_M \\odr$ is then:\n",
    "$$ \\{ \\dot{\\gamma}(0): \\gamma(\\cdot) \\text{ is a curve on } \\odr \\text{ with } \\gamma(0) = M \\}$$\n",
    "where $\\dot{\\gamma}$ is the derivative $\\frac{d}{dt}\\gamma(t)$\n",
    "- Or in words: the tangent space at $M$ is the set of first derivatives at $M$ of all curves on the manifold that pass through $M$, i.e. the space of directions along the manifold at point $M$\n",
    "- The Stiefel manifold admits some equivalent forms for the tangent space at a point $M$:\n",
    "$$ \\begin{align}\n",
    "T_M \\odr & = \\{ \\dot{\\gamma}(0): \\gamma(\\cdot) \\text{ is a curve on } \\odr \\text{ with } \\gamma(0) = M \\}\\\\\n",
    "& = \\{ X \\in \\rdr : M^TX + X^TM = 0 \\}\\\\\n",
    "& = \\{ MA + (I - MM^T)B : A = -A^T,B \\in \\rdr \\}\n",
    "\\end{align}$$\n",
    "- The third form is particularly useful since it allows us to construct points in the tangent space"
   ]
  },
  {
   "cell_type": "markdown",
   "metadata": {},
   "source": [
    "**Projection from $\\rdr$ onto the tangent space $T_M \\odr$**\n",
    "- We would like to project an arbitrary vector $Z \\in \\mathbb{R}^{d\\times r}$ onto the tangent space $T_M \\odr$. In other words, given a point not in the tangent space, we would like to find the closest point to it that's in the tangent space.\n",
    "- This projection $\\pi_M(Z)$ is given by\n",
    "$$ \\pi_M(Z) = M \\text{skew}(M^TZ) + (I - MM^T)Z$$"
   ]
  },
  {
   "cell_type": "markdown",
   "metadata": {},
   "source": [
    "**Retraction from $T_M \\odr$ to $\\odr$**\n",
    "- After computing the gradient $-\\nabla_M f$ at a point $M$, we would like to step in the direction of the projected gradient to $M + \\beta \\pi_M(-\\nabla_M f)$ where $\\beta$ is the step size"
   ]
  },
  {
   "cell_type": "code",
   "execution_count": null,
   "metadata": {
    "collapsed": true
   },
   "outputs": [],
   "source": [
    "dot = np.dot"
   ]
  },
  {
   "cell_type": "code",
   "execution_count": 153,
   "metadata": {
    "collapsed": false
   },
   "outputs": [
    {
     "data": {
      "text/plain": [
       "(array([[-0.06636459,  0.15036049],\n",
       "        [ 0.27727964,  0.2738639 ],\n",
       "        [-0.30247766, -0.15038684],\n",
       "        [-0.05136056,  0.36339234],\n",
       "        [ 0.29914065, -0.55265155],\n",
       "        [ 0.12406988, -0.0604768 ],\n",
       "        [ 0.1172024 ,  0.08542416],\n",
       "        [-0.08513059, -0.65586791],\n",
       "        [ 0.36465999, -0.01944447],\n",
       "        [-0.7521583 , -0.02829893]]), (10, 2))"
      ]
     },
     "execution_count": 153,
     "metadata": {},
     "output_type": "execute_result"
    }
   ],
   "source": [
    "M,M.shape"
   ]
  },
  {
   "cell_type": "code",
   "execution_count": 149,
   "metadata": {
    "collapsed": true
   },
   "outputs": [],
   "source": [
    "nabla = np.zeros(M.shape)\n",
    "nabla[0,0] = 1\n",
    "nabla[1,1] = 1"
   ]
  },
  {
   "cell_type": "code",
   "execution_count": 154,
   "metadata": {
    "collapsed": false
   },
   "outputs": [
    {
     "data": {
      "text/plain": [
       "array([[-0.07599905,  0.15063037],\n",
       "       [ 0.2776812 ,  0.26520679],\n",
       "       [-0.30259848, -0.15144546],\n",
       "       [-0.05054947,  0.36427772],\n",
       "       [ 0.29776045, -0.55352544],\n",
       "       [ 0.12385823, -0.06037713],\n",
       "       [ 0.11730727,  0.08590871],\n",
       "       [-0.08647647, -0.65784612],\n",
       "       [ 0.36437641, -0.018718  ],\n",
       "       [-0.75171964, -0.02998469]])"
      ]
     },
     "execution_count": 154,
     "metadata": {},
     "output_type": "execute_result"
    }
   ],
   "source": [
    "M + 0.01*proj_stiefel(M,-nabla)"
   ]
  },
  {
   "cell_type": "code",
   "execution_count": 136,
   "metadata": {
    "collapsed": false
   },
   "outputs": [
    {
     "data": {
      "text/plain": [
       "array([[  1.00000000e+00,   2.91433544e-16],\n",
       "       [  2.91433544e-16,   1.00000000e+00]])"
      ]
     },
     "execution_count": 136,
     "metadata": {},
     "output_type": "execute_result"
    }
   ],
   "source": [
    "M.T.dot(M)"
   ]
  },
  {
   "cell_type": "code",
   "execution_count": 128,
   "metadata": {
    "collapsed": true
   },
   "outputs": [],
   "source": [
    "def skew(M,Z):\n",
    "    ''' return the skew-symmetric part of $M^T Z$'''\n",
    "    return 0.5 * (dot(M.T,Z) - dot(Z.T,M))\n",
    "\n",
    "def proj_stiefel(M,Z):\n",
    "    ''' M is a d-by-r point on the stiefel manifold, defining a tangent\n",
    "    space $T_M \\mathcal{O}^{d \\times r}$\n",
    "    $Z \\in \\mathbb{R}^{d\\times r}$ is an arbitrary point \n",
    "    we would like to project onto the '''\n",
    "    MskewMTZ = np.dot(M,skew(M,Z))\n",
    "    IMMTZ = dot((np.eye(len(M)) - dot(M,M.T)),Z)\n",
    "    return MskewMTZ + IMMTZ"
   ]
  },
  {
   "cell_type": "code",
   "execution_count": 160,
   "metadata": {
    "collapsed": true
   },
   "outputs": [],
   "source": [
    "def retr_stiefel_closed_form(M,Z):\n",
    "    ''' compute '''\n",
    "    ZTZ = dot(Z.T,Z)\n",
    "    return la.inv(la.sqrtm(dot(M+Z,(np.eye(len(ZTZ)) + ZTZ))))\n",
    "\n",
    "def retr_stiefel_svd(M,Z):\n",
    "    U,s,V = la.svd(M+Z)\n",
    "    print(U.shape,V.shape)\n",
    "    return dot(U,V.T)"
   ]
  },
  {
   "cell_type": "code",
   "execution_count": 156,
   "metadata": {
    "collapsed": false
   },
   "outputs": [
    {
     "ename": "ValueError",
     "evalue": "shapes (10,10) and (2,2) not aligned: 10 (dim 1) != 2 (dim 0)",
     "output_type": "error",
     "traceback": [
      "\u001b[0;31m---------------------------------------------------------------------------\u001b[0m",
      "\u001b[0;31mValueError\u001b[0m                                Traceback (most recent call last)",
      "\u001b[0;32m<ipython-input-156-85ab8700ee34>\u001b[0m in \u001b[0;36m<module>\u001b[0;34m()\u001b[0m\n\u001b[0;32m----> 1\u001b[0;31m \u001b[0mretr_stiefel_svd\u001b[0m\u001b[0;34m(\u001b[0m\u001b[0mM\u001b[0m\u001b[0;34m,\u001b[0m\u001b[0mM\u001b[0m \u001b[0;34m+\u001b[0m \u001b[0;36m0.01\u001b[0m\u001b[0;34m*\u001b[0m\u001b[0mproj_stiefel\u001b[0m\u001b[0;34m(\u001b[0m\u001b[0mM\u001b[0m\u001b[0;34m,\u001b[0m\u001b[0;34m-\u001b[0m\u001b[0mnabla\u001b[0m\u001b[0;34m)\u001b[0m\u001b[0;34m)\u001b[0m\u001b[0;34m\u001b[0m\u001b[0m\n\u001b[0m",
      "\u001b[0;32m<ipython-input-155-c426e82feb6d>\u001b[0m in \u001b[0;36mretr_stiefel_svd\u001b[0;34m(M, Z)\u001b[0m\n\u001b[1;32m      6\u001b[0m \u001b[0;32mdef\u001b[0m \u001b[0mretr_stiefel_svd\u001b[0m\u001b[0;34m(\u001b[0m\u001b[0mM\u001b[0m\u001b[0;34m,\u001b[0m\u001b[0mZ\u001b[0m\u001b[0;34m)\u001b[0m\u001b[0;34m:\u001b[0m\u001b[0;34m\u001b[0m\u001b[0m\n\u001b[1;32m      7\u001b[0m     \u001b[0mU\u001b[0m\u001b[0;34m,\u001b[0m\u001b[0ms\u001b[0m\u001b[0;34m,\u001b[0m\u001b[0mVT\u001b[0m \u001b[0;34m=\u001b[0m \u001b[0mla\u001b[0m\u001b[0;34m.\u001b[0m\u001b[0msvd\u001b[0m\u001b[0;34m(\u001b[0m\u001b[0mM\u001b[0m\u001b[0;34m+\u001b[0m\u001b[0mZ\u001b[0m\u001b[0;34m)\u001b[0m\u001b[0;34m\u001b[0m\u001b[0m\n\u001b[0;32m----> 8\u001b[0;31m     \u001b[0;32mreturn\u001b[0m \u001b[0mdot\u001b[0m\u001b[0;34m(\u001b[0m\u001b[0mU\u001b[0m\u001b[0;34m,\u001b[0m\u001b[0mVT\u001b[0m\u001b[0;34m)\u001b[0m\u001b[0;34m\u001b[0m\u001b[0m\n\u001b[0m",
      "\u001b[0;32m/Users/joshuafass/anaconda/envs/py27/lib/python2.7/site-packages/autograd/core.pyc\u001b[0m in \u001b[0;36m__call__\u001b[0;34m(self, *args, **kwargs)\u001b[0m\n\u001b[1;32m    105\u001b[0m                         \u001b[0mtapes\u001b[0m\u001b[0;34m.\u001b[0m\u001b[0madd\u001b[0m\u001b[0;34m(\u001b[0m\u001b[0mtape\u001b[0m\u001b[0;34m)\u001b[0m\u001b[0;34m\u001b[0m\u001b[0m\n\u001b[1;32m    106\u001b[0m \u001b[0;34m\u001b[0m\u001b[0m\n\u001b[0;32m--> 107\u001b[0;31m         \u001b[0mresult\u001b[0m \u001b[0;34m=\u001b[0m \u001b[0mself\u001b[0m\u001b[0;34m.\u001b[0m\u001b[0mfun\u001b[0m\u001b[0;34m(\u001b[0m\u001b[0;34m*\u001b[0m\u001b[0margvals\u001b[0m\u001b[0;34m,\u001b[0m \u001b[0;34m**\u001b[0m\u001b[0mkwargs\u001b[0m\u001b[0;34m)\u001b[0m\u001b[0;34m\u001b[0m\u001b[0m\n\u001b[0m\u001b[1;32m    108\u001b[0m         \u001b[0;32mif\u001b[0m \u001b[0mresult\u001b[0m \u001b[0;32mis\u001b[0m \u001b[0mNotImplemented\u001b[0m\u001b[0;34m:\u001b[0m \u001b[0;32mreturn\u001b[0m \u001b[0mresult\u001b[0m\u001b[0;34m\u001b[0m\u001b[0m\n\u001b[1;32m    109\u001b[0m         \u001b[0;32mif\u001b[0m \u001b[0mops\u001b[0m\u001b[0;34m:\u001b[0m\u001b[0;34m\u001b[0m\u001b[0m\n",
      "\u001b[0;31mValueError\u001b[0m: shapes (10,10) and (2,2) not aligned: 10 (dim 1) != 2 (dim 0)"
     ]
    }
   ],
   "source": [
    "retr_stiefel_svd(M,M + 0.01*proj_stiefel(M,-nabla))"
   ]
  },
  {
   "cell_type": "code",
   "execution_count": 124,
   "metadata": {
    "collapsed": false
   },
   "outputs": [
    {
     "data": {
      "text/plain": [
       "((10, 2), (10, 10))"
      ]
     },
     "execution_count": 124,
     "metadata": {},
     "output_type": "execute_result"
    }
   ],
   "source": [
    "X.shape, np.dot(X,X.T).shape"
   ]
  },
  {
   "cell_type": "code",
   "execution_count": 125,
   "metadata": {
    "collapsed": true
   },
   "outputs": [],
   "source": [
    "def proj(X,U):\n",
    "    skew_XTU = 0.5 * (np.dot(X.T,U) - np.dot(U.T,X))\n",
    "    XXT = np.dot(X,X.T)\n",
    "    I = np.eye(len(XXT))\n",
    "    return np.dot(X,skew_XTU) + np.dot(I - XXT,U)"
   ]
  },
  {
   "cell_type": "code",
   "execution_count": 126,
   "metadata": {
    "collapsed": true
   },
   "outputs": [],
   "source": [
    "X = M\n",
    "Z = M_"
   ]
  },
  {
   "cell_type": "code",
   "execution_count": 144,
   "metadata": {
    "collapsed": false
   },
   "outputs": [
    {
     "data": {
      "text/plain": [
       "array([[ -2.08166817e-17,  -5.57279917e-17],\n",
       "       [ -1.66533454e-16,  -2.03830008e-16],\n",
       "       [  1.66533454e-16,   1.49186219e-16],\n",
       "       [ -7.28583860e-17,  -1.82471226e-16],\n",
       "       [  5.55111512e-17,   1.47451495e-16],\n",
       "       [ -4.16333634e-17,   2.16840434e-18],\n",
       "       [ -5.55111512e-17,  -6.41847686e-17],\n",
       "       [  2.28983499e-16,   2.97938757e-16],\n",
       "       [ -1.38777878e-16,  -8.41340886e-17],\n",
       "       [  2.77555756e-16,   2.35922393e-16]])"
      ]
     },
     "execution_count": 144,
     "metadata": {},
     "output_type": "execute_result"
    }
   ],
   "source": [
    "proj_stiefel(X,X)"
   ]
  },
  {
   "cell_type": "code",
   "execution_count": 135,
   "metadata": {
    "collapsed": false
   },
   "outputs": [
    {
     "data": {
      "text/plain": [
       "array([[ -8.08533463e-04,  -1.74880914e-03],\n",
       "       [  1.54659220e-03,  -7.71805873e-04],\n",
       "       [  7.91613473e-04,  -7.55978183e-04],\n",
       "       [  1.25280879e-03,   4.85741442e-04],\n",
       "       [ -3.87057535e-05,  -1.46878111e-04],\n",
       "       [ -4.73537614e-04,  -4.58327309e-04],\n",
       "       [  5.55372729e-04,  -2.09554031e-05],\n",
       "       [  2.13110793e-03,  -1.21287630e-04],\n",
       "       [  2.62155575e-04,   8.22368371e-04],\n",
       "       [  1.16520863e-04,  -4.75602255e-04]])"
      ]
     },
     "execution_count": 135,
     "metadata": {},
     "output_type": "execute_result"
    }
   ],
   "source": [
    "proj(X,Z)"
   ]
  },
  {
   "cell_type": "code",
   "execution_count": 99,
   "metadata": {
    "collapsed": false
   },
   "outputs": [
    {
     "data": {
      "text/plain": [
       "(1000, 10)"
      ]
     },
     "execution_count": 99,
     "metadata": {},
     "output_type": "execute_result"
    }
   ],
   "source": [
    "X.shape"
   ]
  },
  {
   "cell_type": "code",
   "execution_count": 103,
   "metadata": {
    "collapsed": false
   },
   "outputs": [
    {
     "data": {
      "text/plain": [
       "(10, 1000)"
      ]
     },
     "execution_count": 103,
     "metadata": {},
     "output_type": "execute_result"
    }
   ],
   "source": [
    "X.T.shape"
   ]
  },
  {
   "cell_type": "code",
   "execution_count": 106,
   "metadata": {
    "collapsed": false
   },
   "outputs": [
    {
     "data": {
      "text/plain": [
       "((10, 10), (1000, 1000))"
      ]
     },
     "execution_count": 106,
     "metadata": {},
     "output_type": "execute_result"
    }
   ],
   "source": [
    "np.dot(X.T,X).shape,np.dot(X,X.T).shape"
   ]
  },
  {
   "cell_type": "code",
   "execution_count": 107,
   "metadata": {
    "collapsed": false
   },
   "outputs": [
    {
     "data": {
      "text/plain": [
       "((10, 10), (1000, 1000))"
      ]
     },
     "execution_count": 107,
     "metadata": {},
     "output_type": "execute_result"
    }
   ],
   "source": [
    "X.T.dot(X).shape,(X.dot(X.T)).shape"
   ]
  },
  {
   "cell_type": "code",
   "execution_count": 108,
   "metadata": {
    "collapsed": false
   },
   "outputs": [
    {
     "data": {
      "text/plain": [
       "(100.96890275582501, 10194.719323715246, 10194.719323715248)"
      ]
     },
     "execution_count": 108,
     "metadata": {},
     "output_type": "execute_result"
    }
   ],
   "source": [
    "np.linalg.norm(X),np.trace(np.dot(X,X.T)),np.trace(np.dot(X.T,X))"
   ]
  },
  {
   "cell_type": "code",
   "execution_count": 89,
   "metadata": {
    "collapsed": false
   },
   "outputs": [
    {
     "data": {
      "text/plain": [
       "array([[ -1.15793447e+00,   7.08890921e-04,   1.08963956e-02, ...,\n",
       "          1.34422705e+00,   1.21995753e+00,  -8.89123821e-01],\n",
       "       [ -1.38337094e+00,  -3.17456729e-01,  -1.61633593e+00, ...,\n",
       "         -1.53145704e+00,  -5.66074139e-01,   8.15097114e-01],\n",
       "       [ -7.05693721e-01,   8.58759013e-01,  -2.00323789e+00, ...,\n",
       "         -4.35369887e-01,   8.36220132e-01,   9.51043165e-01],\n",
       "       ..., \n",
       "       [  4.27508644e-01,   4.50559213e-01,  -1.00726948e+00, ...,\n",
       "         -1.19187319e+00,   3.18524852e-01,   6.62183770e-02],\n",
       "       [  6.52649944e-01,   1.61298106e+00,  -4.77056430e-01, ...,\n",
       "         -9.90813058e-01,   1.67999338e-01,   1.09724008e+00],\n",
       "       [ -1.38277316e+00,  -1.55336640e+00,   5.09705697e-01, ...,\n",
       "         -8.89839013e-01,  -6.80742608e-01,   4.95242623e-01]])"
      ]
     },
     "execution_count": 89,
     "metadata": {},
     "output_type": "execute_result"
    }
   ],
   "source": [
    "X"
   ]
  },
  {
   "cell_type": "code",
   "execution_count": null,
   "metadata": {
    "collapsed": true
   },
   "outputs": [],
   "source": []
  }
 ],
 "metadata": {
  "kernelspec": {
   "display_name": "Python 2",
   "language": "python",
   "name": "python2"
  },
  "language_info": {
   "codemirror_mode": {
    "name": "ipython",
    "version": 2
   },
   "file_extension": ".py",
   "mimetype": "text/x-python",
   "name": "python",
   "nbconvert_exporter": "python",
   "pygments_lexer": "ipython2",
   "version": "2.7.10"
  }
 },
 "nbformat": 4,
 "nbformat_minor": 0
}
